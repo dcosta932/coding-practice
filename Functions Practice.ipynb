{
 "cells": [
  {
   "cell_type": "code",
   "execution_count": 16,
   "metadata": {},
   "outputs": [
    {
     "data": {
      "text/plain": [
       "'6006458\\tSan Francisco\\t$342.380\\n'"
      ]
     },
     "execution_count": 16,
     "metadata": {},
     "output_type": "execute_result"
    }
   ],
   "source": [
    "# import pandas as pd\n",
    "# import numpy as np\n",
    "\n",
    "# # sample_row: \"1234312\\tMiddleburg\\t$17.56\"\n",
    "# locations = ['Jacksonville', 'Ocala', 'Middleburg', 'San Diego', 'San Francisco', 'Clay County']\n",
    "\n",
    "\n",
    "# def generate_row():\n",
    "#     col1 = np.random.randint(1000000, 9999999)\n",
    "#     col2 = np.random.choice(locations)\n",
    "#     col3_dollars = np.random.randint(0, 500)\n",
    "#     col3_cents = np.random.randint(0,99)\n",
    "#     col3_price = f\"${col3_dollars}.{col3_cents}0\" \n",
    "    \n",
    "#     row = f\"{col1}\\t{col2}\\t{col3_price}\\n\"\n",
    "#     return row\n",
    "# generate_row()"
   ]
  },
  {
   "cell_type": "code",
   "execution_count": 18,
   "metadata": {},
   "outputs": [],
   "source": [
    "# with open('sales.tsv', 'w') as f:\n",
    "#     for i in range(100001):\n",
    "#         row = generate_row()\n",
    "#         f.write(row)"
   ]
  },
  {
   "cell_type": "markdown",
   "metadata": {},
   "source": [
    "# Task: Get total sales for each area\n",
    "\n",
    "Read in each line from the file `sales.tsv`\n",
    "seperate by area\n",
    "create running total column by area\n",
    "cast sales amount to float\n",
    "add sales amount to total by area\n",
    "print out for each area"
   ]
  },
  {
   "cell_type": "code",
   "execution_count": 35,
   "metadata": {},
   "outputs": [
    {
     "name": "stdout",
     "output_type": "stream",
     "text": [
      "4659584\tMiddleburg\t$345.600\n",
      "5309510\tMiddleburg\t$23.220\n",
      "3426976\tMiddleburg\t$282.470\n",
      "6530680\tSan Diego\t$434.510\n",
      "4754336\tClay County\t$497.490\n",
      "2932455\tMiddleburg\t$4.350\n",
      "9479088\tJacksonville\t$168.980\n",
      "2492308\tJacksonville\t$267.350\n",
      "4140600\tJacksonville\t$254.250\n",
      "4391183\tClay County\t$32.780\n"
     ]
    }
   ],
   "source": [
    "!head sales.tsv"
   ]
  },
  {
   "cell_type": "code",
   "execution_count": 37,
   "metadata": {},
   "outputs": [
    {
     "name": "stdout",
     "output_type": "stream",
     "text": [
      "['4659584\\tMiddleburg\\t$345.600\\n', '5309510\\tMiddleburg\\t$23.220\\n', '3426976\\tMiddleburg\\t$282.470\\n', '6530680\\tSan Diego\\t$434.510\\n', '4754336\\tClay County\\t$497.490\\n', '2932455\\tMiddleburg\\t$4.350\\n', '9479088\\tJacksonville\\t$168.980\\n', '2492308\\tJacksonville\\t$267.350\\n', '4140600\\tJacksonville\\t$254.250\\n', '4391183\\tClay County\\t$32.780\\n']\n"
     ]
    }
   ],
   "source": [
    "with open('sales.tsv', 'r') as f:\n",
    "    data = f.readlines()\n",
    "\n",
    "print (data[0:10])\n",
    "\n",
    "\n"
   ]
  },
  {
   "cell_type": "code",
   "execution_count": 38,
   "metadata": {},
   "outputs": [],
   "source": [
    "testRow = data[0]"
   ]
  },
  {
   "cell_type": "code",
   "execution_count": 40,
   "metadata": {},
   "outputs": [
    {
     "data": {
      "text/plain": [
       "'Middleburg'"
      ]
     },
     "execution_count": 40,
     "metadata": {},
     "output_type": "execute_result"
    }
   ],
   "source": [
    "testRow.split(\"\\t\")[1]"
   ]
  },
  {
   "cell_type": "code",
   "execution_count": 41,
   "metadata": {},
   "outputs": [],
   "source": [
    "row = testRow.split(\"\\t\")"
   ]
  },
  {
   "cell_type": "code",
   "execution_count": 47,
   "metadata": {},
   "outputs": [],
   "source": [
    "location = row[1]\n",
    "sales = row[2]\n",
    "cleanSales = sales.replace(\"\\n\", \"\").replace(\"$\", \"\")\n",
    "salesF = float(cleanSales)"
   ]
  },
  {
   "cell_type": "code",
   "execution_count": 54,
   "metadata": {},
   "outputs": [
    {
     "name": "stdout",
     "output_type": "stream",
     "text": [
      "345.6\n"
     ]
    }
   ],
   "source": [
    "print (salesF)"
   ]
  },
  {
   "cell_type": "code",
   "execution_count": null,
   "metadata": {},
   "outputs": [],
   "source": []
  },
  {
   "cell_type": "code",
   "execution_count": 24,
   "metadata": {},
   "outputs": [],
   "source": [
    "def foo(name): \n",
    "    n = \"Hello, \" + name.lower().capitalize()  \n",
    "    \n",
    "    \n",
    "    print (n)\n"
   ]
  },
  {
   "cell_type": "code",
   "execution_count": 26,
   "metadata": {},
   "outputs": [
    {
     "name": "stdout",
     "output_type": "stream",
     "text": [
      "Hello, Derrick\n"
     ]
    }
   ],
   "source": [
    "foo(\"DERRicK\")"
   ]
  },
  {
   "cell_type": "code",
   "execution_count": 29,
   "metadata": {},
   "outputs": [],
   "source": [
    "testcase1 = \"DERRicK\"\n",
    "testcase2 = \"DERRICK\"\n",
    "testcase3 = \"derrick\""
   ]
  },
  {
   "cell_type": "code",
   "execution_count": 30,
   "metadata": {},
   "outputs": [
    {
     "name": "stdout",
     "output_type": "stream",
     "text": [
      "Hello, Derrick\n",
      "Hello, Derrick\n",
      "Hello, Derrick\n"
     ]
    }
   ],
   "source": [
    "foo(testcase1)\n",
    "foo(testcase2)\n",
    "foo(testcase3)"
   ]
  },
  {
   "cell_type": "code",
   "execution_count": 21,
   "metadata": {},
   "outputs": [
    {
     "name": "stdout",
     "output_type": "stream",
     "text": [
      "DERRICK\n"
     ]
    }
   ],
   "source": [
    "i = \"derrick\".upper()\n",
    "print (i)"
   ]
  },
  {
   "cell_type": "code",
   "execution_count": 22,
   "metadata": {},
   "outputs": [
    {
     "data": {
      "text/plain": [
       "'derrick'"
      ]
     },
     "execution_count": 22,
     "metadata": {},
     "output_type": "execute_result"
    }
   ],
   "source": [
    "i.lower()"
   ]
  },
  {
   "cell_type": "code",
   "execution_count": 23,
   "metadata": {},
   "outputs": [
    {
     "data": {
      "text/plain": [
       "'DERRICK'"
      ]
     },
     "execution_count": 23,
     "metadata": {},
     "output_type": "execute_result"
    }
   ],
   "source": [
    "i"
   ]
  },
  {
   "cell_type": "code",
   "execution_count": 19,
   "metadata": {},
   "outputs": [
    {
     "data": {
      "text/plain": [
       "'Derrick'"
      ]
     },
     "execution_count": 19,
     "metadata": {},
     "output_type": "execute_result"
    }
   ],
   "source": [
    "\"DERRICK\".lower().capitalize()"
   ]
  },
  {
   "cell_type": "code",
   "execution_count": null,
   "metadata": {},
   "outputs": [],
   "source": [
    "`"
   ]
  },
  {
   "cell_type": "code",
   "execution_count": 15,
   "metadata": {},
   "outputs": [
    {
     "name": "stdout",
     "output_type": "stream",
     "text": [
      "Hello, derrick\n"
     ]
    }
   ],
   "source": [
    "foo(\"derrick\")"
   ]
  },
  {
   "cell_type": "code",
   "execution_count": 7,
   "metadata": {},
   "outputs": [
    {
     "data": {
      "text/plain": [
       "<function __main__.foo()>"
      ]
     },
     "execution_count": 7,
     "metadata": {},
     "output_type": "execute_result"
    }
   ],
   "source": [
    "foo"
   ]
  },
  {
   "cell_type": "code",
   "execution_count": 8,
   "metadata": {},
   "outputs": [
    {
     "ename": "NameError",
     "evalue": "name 'bar' is not defined",
     "output_type": "error",
     "traceback": [
      "\u001b[1;31m---------------------------------------------------------------------------\u001b[0m",
      "\u001b[1;31mNameError\u001b[0m                                 Traceback (most recent call last)",
      "\u001b[1;32m~\\AppData\\Local\\Temp/ipykernel_9244/1728854126.py\u001b[0m in \u001b[0;36m<module>\u001b[1;34m\u001b[0m\n\u001b[1;32m----> 1\u001b[1;33m \u001b[0mbar\u001b[0m\u001b[1;33m\u001b[0m\u001b[1;33m\u001b[0m\u001b[0m\n\u001b[0m",
      "\u001b[1;31mNameError\u001b[0m: name 'bar' is not defined"
     ]
    }
   ],
   "source": [
    "bar"
   ]
  },
  {
   "cell_type": "code",
   "execution_count": null,
   "metadata": {},
   "outputs": [],
   "source": []
  }
 ],
 "metadata": {
  "kernelspec": {
   "display_name": "Python 3 (ipykernel)",
   "language": "python",
   "name": "python3"
  },
  "language_info": {
   "codemirror_mode": {
    "name": "ipython",
    "version": 3
   },
   "file_extension": ".py",
   "mimetype": "text/x-python",
   "name": "python",
   "nbconvert_exporter": "python",
   "pygments_lexer": "ipython3",
   "version": "3.9.7"
  }
 },
 "nbformat": 4,
 "nbformat_minor": 2
}
