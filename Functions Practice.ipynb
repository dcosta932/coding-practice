{
 "cells": [
  {
   "cell_type": "code",
   "execution_count": 16,
   "metadata": {},
   "outputs": [
    {
     "data": {
      "text/plain": [
       "'6006458\\tSan Francisco\\t$342.380\\n'"
      ]
     },
     "execution_count": 16,
     "metadata": {},
     "output_type": "execute_result"
    }
   ],
   "source": [
    "# import pandas as pd\n",
    "# import numpy as np\n",
    "\n",
    "# # sample_row: \"1234312\\tMiddleburg\\t$17.56\"\n",
    "# locations = ['Jacksonville', 'Ocala', 'Middleburg', 'San Diego', 'San Francisco', 'Clay County']\n",
    "\n",
    "\n",
    "# def generate_row():\n",
    "#     col1 = np.random.randint(1000000, 9999999)\n",
    "#     col2 = np.random.choice(locations)\n",
    "#     col3_dollars = np.random.randint(0, 500)\n",
    "#     col3_cents = np.random.randint(0,99)\n",
    "#     col3_price = f\"${col3_dollars}.{col3_cents}0\" \n",
    "    \n",
    "#     row = f\"{col1}\\t{col2}\\t{col3_price}\\n\"\n",
    "#     return row\n",
    "# generate_row()"
   ]
  },
  {
   "cell_type": "code",
   "execution_count": 18,
   "metadata": {},
   "outputs": [],
   "source": [
    "# with open('sales.tsv', 'w') as f:\n",
    "#     for i in range(100001):\n",
    "#         row = generate_row()\n",
    "#         f.write(row)"
   ]
  },
  {
   "cell_type": "markdown",
   "metadata": {},
   "source": [
    "# Task: \n",
    "\n",
    "Read in each line from the file `sales.tsv`\n",
    "Split each "
   ]
  },
  {
   "cell_type": "code",
   "execution_count": 1,
   "metadata": {},
   "outputs": [
    {
     "name": "stdout",
     "output_type": "stream",
     "text": [
      "4659584\tMiddleburg\t$345.600\r\n",
      "5309510\tMiddleburg\t$23.220\r\n",
      "3426976\tMiddleburg\t$282.470\r\n",
      "6530680\tSan Diego\t$434.510\r\n",
      "4754336\tClay County\t$497.490\r\n",
      "2932455\tMiddleburg\t$4.350\r\n",
      "9479088\tJacksonville\t$168.980\r\n",
      "2492308\tJacksonville\t$267.350\r\n",
      "4140600\tJacksonville\t$254.250\r\n",
      "4391183\tClay County\t$32.780\r\n"
     ]
    }
   ],
   "source": [
    "!head sales.tsv"
   ]
  },
  {
   "cell_type": "code",
   "execution_count": null,
   "metadata": {},
   "outputs": [],
   "source": []
  }
 ],
 "metadata": {
  "kernelspec": {
   "display_name": "Python 3",
   "language": "python",
   "name": "python3"
  },
  "language_info": {
   "codemirror_mode": {
    "name": "ipython",
    "version": 3
   },
   "file_extension": ".py",
   "mimetype": "text/x-python",
   "name": "python",
   "nbconvert_exporter": "python",
   "pygments_lexer": "ipython3",
   "version": "3.7.0"
  }
 },
 "nbformat": 4,
 "nbformat_minor": 2
}
